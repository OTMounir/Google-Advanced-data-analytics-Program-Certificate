{
 "cells": [
  {
   "cell_type": "code",
   "execution_count": 1,
   "metadata": {},
   "outputs": [
    {
     "name": "stdout",
     "output_type": "stream",
     "text": [
      "Not there yet, x=0\n",
      "x=1\n",
      "Not there yet, x=1\n",
      "x=2\n",
      "Not there yet, x=2\n",
      "x=3\n",
      "Not there yet, x=3\n",
      "x=4\n",
      "Not there yet, x=4\n",
      "x=5\n"
     ]
    }
   ],
   "source": [
    "# Instantiate a counter.\n",
    "x = 0\n",
    "\n",
    "# Create a while loop that prints \"not there yet,\" increments x by 1, a \n",
    "# and prints x until x reaches 5.\n",
    "while x < 5:\n",
    "    print('Not there yet, x=' + str(x))\n",
    "    x = x + 1\n",
    "    print('x=' + str(x))"
   ]
  },
  {
   "cell_type": "code",
   "execution_count": 1,
   "metadata": {},
   "outputs": [
    {
     "name": "stdout",
     "output_type": "stream",
     "text": [
      "Guess a number between 1 and 25: \n"
     ]
    },
    {
     "ename": "ValueError",
     "evalue": "invalid literal for int() with base 10: ''",
     "output_type": "error",
     "traceback": [
      "\u001b[1;31m---------------------------------------------------------------------------\u001b[0m",
      "\u001b[1;31mValueError\u001b[0m                                Traceback (most recent call last)",
      "Input \u001b[1;32mIn [1]\u001b[0m, in \u001b[0;36m<cell line: 7>\u001b[1;34m()\u001b[0m\n\u001b[0;32m      8\u001b[0m \u001b[38;5;28mprint\u001b[39m(\u001b[38;5;124m'\u001b[39m\u001b[38;5;124mGuess a number between 1 and 25: \u001b[39m\u001b[38;5;124m'\u001b[39m)  \u001b[38;5;66;03m# Tell user to guess number\u001b[39;00m\n\u001b[0;32m      9\u001b[0m guess \u001b[38;5;241m=\u001b[39m \u001b[38;5;28minput\u001b[39m()                             \u001b[38;5;66;03m# Produce the user input field\u001b[39;00m\n\u001b[1;32m---> 10\u001b[0m guess \u001b[38;5;241m=\u001b[39m \u001b[38;5;28;43mint\u001b[39;49m\u001b[43m(\u001b[49m\u001b[43mguess\u001b[49m\u001b[43m)\u001b[49m                          \u001b[38;5;66;03m# Convert guess to integer\u001b[39;00m\n\u001b[0;32m     11\u001b[0m number_of_guesses \u001b[38;5;241m+\u001b[39m\u001b[38;5;241m=\u001b[39m \u001b[38;5;241m1\u001b[39m                      \u001b[38;5;66;03m# Increment guess count by 1\u001b[39;00m\n\u001b[0;32m     13\u001b[0m \u001b[38;5;28;01mif\u001b[39;00m guess \u001b[38;5;241m==\u001b[39m number:                         \u001b[38;5;66;03m# Break while loop if guess is correct\u001b[39;00m\n",
      "\u001b[1;31mValueError\u001b[0m: invalid literal for int() with base 10: ''"
     ]
    }
   ],
   "source": [
    "# Import the random module to be able to create a (pseudo) random number.\n",
    "import random\n",
    "\n",
    "number = random.randint(1,25)                   # Generate random number\n",
    "number_of_guesses = 0                           # Instantiate guess counter\n",
    "\n",
    "while number_of_guesses < 5:\n",
    "    print('Guess a number between 1 and 25: ')  # Tell user to guess number\n",
    "    guess = input()                             # Produce the user input field\n",
    "    guess = int(guess)                          # Convert guess to integer\n",
    "    number_of_guesses += 1                      # Increment guess count by 1\n",
    "\n",
    "    if guess == number:                         # Break while loop if guess is correct\n",
    "        break\n",
    "    elif number_of_guesses == 5:                # Break while loop if guess limit reached\n",
    "        break\n",
    "    else:                                       # Tell user to try again\n",
    "        print('Nope! Try again.')\n",
    "\n",
    "# Message to display if correct\n",
    "if guess == number:\n",
    "    print('Correct! You guessed the number in ' + str(number_of_guesses) + ' tries!')\n",
    "# Message to display after 5 unsuccessful guesses\n",
    "else:\n",
    "    print('You did not guess the number. The number was ' + str(number) + '.')"
   ]
  },
  {
   "cell_type": "code",
   "execution_count": 3,
   "metadata": {},
   "outputs": [
    {
     "name": "stdout",
     "output_type": "stream",
     "text": [
      "0\n",
      "1\n",
      "2\n",
      "3\n",
      "4\n"
     ]
    }
   ],
   "source": [
    "# Example of for loop with range() function\n",
    "for x in range(5):\n",
    "    print(x)"
   ]
  },
  {
   "cell_type": "code",
   "execution_count": 5,
   "metadata": {},
   "outputs": [
    {
     "name": "stdout",
     "output_type": "stream",
     "text": [
      "# Get started with Python\n",
      "\n",
      "\n",
      "\n",
      "# Week 1 - video 7 of 10\n",
      "\n",
      "\n",
      "\n",
      "# Input/Output: Data comes from different places\n",
      "\n",
      "\n",
      "\n",
      "\n",
      "\n",
      "\n",
      "\n",
      "#import this\n",
      "\n",
      "\n",
      "\n",
      "The Zen of Python, by Tim Peters\n",
      "\n",
      "\n",
      "\n",
      "\n",
      "\n",
      "\n",
      "\n",
      "Beautiful is better than ugly.\n",
      "\n",
      "\n",
      "\n",
      "Explicit is better than implicit.\n",
      "\n",
      "\n",
      "\n",
      "Simple is better than complex.\n",
      "\n",
      "\n",
      "\n",
      "Complex is better than complicated.\n",
      "\n",
      "\n",
      "\n",
      "Flat is better than nested.\n",
      "\n",
      "\n",
      "\n",
      "Sparse is better than dense.\n",
      "\n",
      "\n",
      "\n",
      "Readability counts.\n",
      "\n",
      "\n",
      "\n",
      "Special cases aren't special enough to break the rules.\n",
      "\n",
      "\n",
      "\n",
      "Although practicality beats purity.\n",
      "\n",
      "\n",
      "\n",
      "Errors should never pass silently.\n",
      "\n",
      "\n",
      "\n",
      "Unless explicitly silenced.\n",
      "\n",
      "\n",
      "\n",
      "In the face of ambiguity, refuse the temptation to guess.\n",
      "\n",
      "\n",
      "\n",
      "There should be one-- and preferably only one --obvious way to do it.\n",
      "\n",
      "\n",
      "\n",
      "Although that way may not be obvious at first unless you're Dutch.\n",
      "\n",
      "\n",
      "\n",
      "Now is better than never.\n",
      "\n",
      "\n",
      "\n",
      "Although never is often better than *right* now.\n",
      "\n",
      "\n",
      "\n",
      "If the implementation is hard to explain, it's a bad idea.\n",
      "\n",
      "\n",
      "\n",
      "If the implementation is easy to explain, it may be a good idea.\n",
      "\n",
      "\n",
      "\n",
      "Namespaces are one honking great idea -- let's do more of those!\n",
      "\n",
      "\n",
      "\n",
      "I'm done.\n",
      "\n",
      "I'm done.\n"
     ]
    }
   ],
   "source": [
    "# Example of reading in a .txt file line by line with a for loop\n",
    "with open('zen_of_python.txt') as f:\n",
    "    for line in f:\n",
    "        print(line)\n",
    "print('\\nI\\'m done.')"
   ]
  },
  {
   "cell_type": "code",
   "execution_count": 6,
   "metadata": {},
   "outputs": [
    {
     "name": "stdout",
     "output_type": "stream",
     "text": [
      "362880\n"
     ]
    }
   ],
   "source": [
    "# Use a for loop to calculate 9!\n",
    "product = 1\n",
    "for n in range(1, 10):\n",
    "    product = product * n\n",
    "\n",
    "print(product)"
   ]
  },
  {
   "cell_type": "code",
   "execution_count": 7,
   "metadata": {},
   "outputs": [
    {
     "name": "stdout",
     "output_type": "stream",
     "text": [
      "0 -17.77777777777778\n",
      "10 -12.222222222222221\n",
      "20 -6.666666666666667\n",
      "30 -1.1111111111111112\n",
      "40 4.444444444444445\n",
      "50 10.0\n",
      "60 15.555555555555555\n",
      "70 21.11111111111111\n",
      "80 26.666666666666668\n",
      "90 32.22222222222222\n",
      "100 37.77777777777778\n"
     ]
    }
   ],
   "source": [
    "# Define a function that converts Fahrenheit to Celsius.\n",
    "def to_celsius(x):\n",
    "     return (x-32) * 5/9\n",
    "\n",
    "# Create a table of Celsius-->Fahrenheit conversions every 10 degrees, 0-100\n",
    "for x in range(0, 101, 10):\n",
    "     print(x, to_celsius(x))"
   ]
  },
  {
   "cell_type": "code",
   "execution_count": null,
   "metadata": {},
   "outputs": [],
   "source": []
  }
 ],
 "metadata": {
  "kernelspec": {
   "display_name": "Python 3",
   "language": "python",
   "name": "python3"
  },
  "language_info": {
   "codemirror_mode": {
    "name": "ipython",
    "version": 3
   },
   "file_extension": ".py",
   "mimetype": "text/x-python",
   "name": "python",
   "nbconvert_exporter": "python",
   "pygments_lexer": "ipython3",
   "version": "3.10.6"
  }
 },
 "nbformat": 4,
 "nbformat_minor": 2
}
