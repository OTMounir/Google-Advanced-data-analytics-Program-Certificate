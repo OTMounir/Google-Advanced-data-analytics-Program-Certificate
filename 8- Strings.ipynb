{
 "cells": [
  {
   "cell_type": "code",
   "execution_count": 1,
   "metadata": {},
   "outputs": [
    {
     "data": {
      "text/plain": [
       "'Helloworld'"
      ]
     },
     "execution_count": 1,
     "metadata": {},
     "output_type": "execute_result"
    }
   ],
   "source": [
    "# Adding strings will combine them.\n",
    "'Hello' + 'world'"
   ]
  },
  {
   "cell_type": "code",
   "execution_count": 2,
   "metadata": {},
   "outputs": [
    {
     "data": {
      "text/plain": [
       "'Hello world'"
      ]
     },
     "execution_count": 2,
     "metadata": {},
     "output_type": "execute_result"
    }
   ],
   "source": [
    "# Blank space (\"whitespace\") is its own character.\n",
    "'Hello ' + 'world'"
   ]
  },
  {
   "cell_type": "code",
   "execution_count": 3,
   "metadata": {},
   "outputs": [
    {
     "data": {
      "text/plain": [
       "'Hello world'"
      ]
     },
     "execution_count": 3,
     "metadata": {},
     "output_type": "execute_result"
    }
   ],
   "source": [
    "# Including a whitespace when combining strings\n",
    "'Hello' + ' ' + 'world'"
   ]
  },
  {
   "cell_type": "code",
   "execution_count": 4,
   "metadata": {},
   "outputs": [
    {
     "data": {
      "text/plain": [
       "'Hello world'"
      ]
     },
     "execution_count": 4,
     "metadata": {},
     "output_type": "execute_result"
    }
   ],
   "source": [
    "# Variables containing strings can be added.\n",
    "greeting_1 = 'Hello '\n",
    "greeting_2 = 'world'\n",
    "greeting_1 + greeting_2"
   ]
  },
  {
   "cell_type": "code",
   "execution_count": 5,
   "metadata": {},
   "outputs": [
    {
     "data": {
      "text/plain": [
       "'Danger! Danger! Danger! '"
      ]
     },
     "execution_count": 5,
     "metadata": {},
     "output_type": "execute_result"
    }
   ],
   "source": [
    "# Strings can be multiplied by integers.\n",
    "danger = 'Danger! '\n",
    "danger * 3"
   ]
  },
  {
   "cell_type": "code",
   "execution_count": 6,
   "metadata": {},
   "outputs": [
    {
     "ename": "TypeError",
     "evalue": "unsupported operand type(s) for -: 'str' and 'int'",
     "output_type": "error",
     "traceback": [
      "\u001b[1;31m---------------------------------------------------------------------------\u001b[0m",
      "\u001b[1;31mTypeError\u001b[0m                                 Traceback (most recent call last)",
      "Input \u001b[1;32mIn [6]\u001b[0m, in \u001b[0;36m<cell line: 2>\u001b[1;34m()\u001b[0m\n\u001b[0;32m      1\u001b[0m \u001b[38;5;66;03m# Strings cannot be used with subtraction or division.\u001b[39;00m\n\u001b[1;32m----> 2\u001b[0m \u001b[43mdanger\u001b[49m\u001b[43m \u001b[49m\u001b[38;5;241;43m-\u001b[39;49m\u001b[43m \u001b[49m\u001b[38;5;241;43m2\u001b[39;49m\n",
      "\u001b[1;31mTypeError\u001b[0m: unsupported operand type(s) for -: 'str' and 'int'"
     ]
    }
   ],
   "source": [
    "# Strings cannot be used with subtraction or division.\n",
    "danger - 2"
   ]
  },
  {
   "cell_type": "code",
   "execution_count": 7,
   "metadata": {},
   "outputs": [
    {
     "name": "stdout",
     "output_type": "stream",
     "text": [
      "\"Thank you for pressing the self-destruct button.\"\n"
     ]
    }
   ],
   "source": [
    "# Alternate single and double quotes to include one or the other in your string.\n",
    "quote = '\"Thank you for pressing the self-destruct button.\"'\n",
    "print(quote)"
   ]
  },
  {
   "cell_type": "code",
   "execution_count": 8,
   "metadata": {},
   "outputs": [
    {
     "name": "stdout",
     "output_type": "stream",
     "text": [
      "Good day,\n",
      "sir.\n"
     ]
    }
   ],
   "source": [
    "# \\n creates a newline.\n",
    "greeting = \"Good day,\\nsir.\"\n",
    "print(greeting)"
   ]
  },
  {
   "cell_type": "code",
   "execution_count": 9,
   "metadata": {},
   "outputs": [
    {
     "name": "stdout",
     "output_type": "stream",
     "text": [
      "\\n represents a newline in Python.\n"
     ]
    }
   ],
   "source": [
    "# Using escape character (\\) lets you express the newline symbol within a string.\n",
    "newline = \"\\\\n represents a newline in Python.\"\n",
    "print(newline)"
   ]
  },
  {
   "cell_type": "code",
   "execution_count": 10,
   "metadata": {},
   "outputs": [
    {
     "name": "stdout",
     "output_type": "stream",
     "text": [
      "Put\n",
      "yut\n",
      "tut\n",
      "hut\n",
      "out\n",
      "nut\n"
     ]
    }
   ],
   "source": [
    "# You can loop over strings.\n",
    "python = 'Python'\n",
    "for letter in python:\n",
    "    print(letter + 'ut')"
   ]
  },
  {
   "cell_type": "code",
   "execution_count": 11,
   "metadata": {},
   "outputs": [
    {
     "data": {
      "text/plain": [
       "3"
      ]
     },
     "execution_count": 11,
     "metadata": {},
     "output_type": "execute_result"
    }
   ],
   "source": [
    "# The index() method returns index of character's first occurrence in string.\n",
    "pets = 'cats and dogs'\n",
    "pets.index('s')"
   ]
  },
  {
   "cell_type": "code",
   "execution_count": 12,
   "metadata": {},
   "outputs": [
    {
     "ename": "ValueError",
     "evalue": "substring not found",
     "output_type": "error",
     "traceback": [
      "\u001b[1;31m---------------------------------------------------------------------------\u001b[0m",
      "\u001b[1;31mValueError\u001b[0m                                Traceback (most recent call last)",
      "Input \u001b[1;32mIn [12]\u001b[0m, in \u001b[0;36m<cell line: 2>\u001b[1;34m()\u001b[0m\n\u001b[0;32m      1\u001b[0m \u001b[38;5;66;03m# The index() method will throw an error if character is not in string.\u001b[39;00m\n\u001b[1;32m----> 2\u001b[0m \u001b[43mpets\u001b[49m\u001b[38;5;241;43m.\u001b[39;49m\u001b[43mindex\u001b[49m\u001b[43m(\u001b[49m\u001b[38;5;124;43m'\u001b[39;49m\u001b[38;5;124;43mz\u001b[39;49m\u001b[38;5;124;43m'\u001b[39;49m\u001b[43m)\u001b[49m\n",
      "\u001b[1;31mValueError\u001b[0m: substring not found"
     ]
    }
   ],
   "source": [
    "# The index() method will throw an error if character is not in string.\n",
    "pets.index('z')"
   ]
  },
  {
   "cell_type": "code",
   "execution_count": 13,
   "metadata": {},
   "outputs": [
    {
     "data": {
      "text/plain": [
       "'J'"
      ]
     },
     "execution_count": 13,
     "metadata": {},
     "output_type": "execute_result"
    }
   ],
   "source": [
    "# Access the character at a given index of a string.\n",
    "name = 'Jolene'\n",
    "name[0]"
   ]
  },
  {
   "cell_type": "code",
   "execution_count": 14,
   "metadata": {},
   "outputs": [
    {
     "data": {
      "text/plain": [
       "'e'"
      ]
     },
     "execution_count": 14,
     "metadata": {},
     "output_type": "execute_result"
    }
   ],
   "source": [
    "# Access the character at a given index of a string.\n",
    "name[5]"
   ]
  },
  {
   "cell_type": "code",
   "execution_count": 15,
   "metadata": {},
   "outputs": [
    {
     "data": {
      "text/plain": [
       "'!'"
      ]
     },
     "execution_count": 15,
     "metadata": {},
     "output_type": "execute_result"
    }
   ],
   "source": [
    "# Negative indexing begins at the end of the string.\n",
    "sentence = 'A man, a plan, a canal, Panama!'\n",
    "sentence[-1]"
   ]
  },
  {
   "cell_type": "code",
   "execution_count": 16,
   "metadata": {},
   "outputs": [
    {
     "data": {
      "text/plain": [
       "'a'"
      ]
     },
     "execution_count": 16,
     "metadata": {},
     "output_type": "execute_result"
    }
   ],
   "source": [
    "# Negative indexing begins at the end of the string.\n",
    "sentence[-2]"
   ]
  },
  {
   "cell_type": "code",
   "execution_count": 17,
   "metadata": {},
   "outputs": [
    {
     "data": {
      "text/plain": [
       "'pine'"
      ]
     },
     "execution_count": 17,
     "metadata": {},
     "output_type": "execute_result"
    }
   ],
   "source": [
    "# Omitting the first value of the slice implies a value of 0.\n",
    "fruit = 'pineapple'\n",
    "fruit[:4]"
   ]
  },
  {
   "cell_type": "code",
   "execution_count": 18,
   "metadata": {},
   "outputs": [
    {
     "name": "stdout",
     "output_type": "stream",
     "text": [
      "Hello Manuel, your lucky number is 3.\n"
     ]
    }
   ],
   "source": [
    "# Use format() method to insert values into your string, indicated by braces.\n",
    "name = 'Manuel'\n",
    "number = 3\n",
    "print('Hello {}, your lucky number is {}.'.format(name, number))"
   ]
  },
  {
   "cell_type": "code",
   "execution_count": 19,
   "metadata": {},
   "outputs": [
    {
     "name": "stdout",
     "output_type": "stream",
     "text": [
      "Hello Manuel, your lucky number is 3.\n"
     ]
    }
   ],
   "source": [
    "# You can assign names to designate how you want values to be inserted.\n",
    "name = 'Manuel'\n",
    "number = 3\n",
    "print('Hello {name}, your lucky number is {num}.'.format(num=number, name=name))"
   ]
  },
  {
   "cell_type": "code",
   "execution_count": 20,
   "metadata": {},
   "outputs": [
    {
     "name": "stdout",
     "output_type": "stream",
     "text": [
      "Hello Manuel, your lucky number is 3.\n"
     ]
    }
   ],
   "source": [
    "# You can use argument indices to designate how you want values to be inserted.\n",
    "print('Hello {1}, your lucky number is {0}.'.format(number, name))"
   ]
  },
  {
   "cell_type": "code",
   "execution_count": 21,
   "metadata": {},
   "outputs": [
    {
     "name": "stdout",
     "output_type": "stream",
     "text": [
      "Base price: $7.75 USD. \n",
      "With tax: $8.2925 USD.\n"
     ]
    }
   ],
   "source": [
    "# Example inserting prices into string\n",
    "price = 7.75\n",
    "with_tax = price * 1.07\n",
    "print('Base price: ${} USD. \\nWith tax: ${} USD.'.format(price, with_tax))"
   ]
  },
  {
   "cell_type": "code",
   "execution_count": 22,
   "metadata": {},
   "outputs": [
    {
     "name": "stdout",
     "output_type": "stream",
     "text": [
      "Base price: $7.75 USD. \n",
      "With tax: $8.29 USD.\n"
     ]
    }
   ],
   "source": [
    "# Use :.2f to round a float value to two places beyond the decimal.\n",
    "print('Base price: ${:.2f} USD. \\nWith tax: ${:.2f} USD.'.format(price, with_tax))"
   ]
  },
  {
   "cell_type": "code",
   "execution_count": 23,
   "metadata": {},
   "outputs": [
    {
     "name": "stdout",
     "output_type": "stream",
     "text": [
      "  0 F | -17.78 C\n",
      " 10 F | -12.22 C\n",
      " 20 F |  -6.67 C\n",
      " 30 F |  -1.11 C\n",
      " 40 F |   4.44 C\n",
      " 50 F |  10.00 C\n",
      " 60 F |  15.56 C\n",
      " 70 F |  21.11 C\n",
      " 80 F |  26.67 C\n",
      " 90 F |  32.22 C\n",
      "100 F |  37.78 C\n"
     ]
    }
   ],
   "source": [
    "# Define a function that converts Fahrenheit to Celsius.\n",
    "def to_celsius(x):\n",
    "    return (x-32) * 5/9\n",
    "\n",
    "# Create a temperature conversion table using string formatting\n",
    "for x in range(0, 101, 10):\n",
    "    print(\"{:>3} F | {:>6.2f} C\".format(x, to_celsius(x)))"
   ]
  },
  {
   "cell_type": "code",
   "execution_count": null,
   "metadata": {},
   "outputs": [],
   "source": []
  }
 ],
 "metadata": {
  "kernelspec": {
   "display_name": "Python 3",
   "language": "python",
   "name": "python3"
  },
  "language_info": {
   "codemirror_mode": {
    "name": "ipython",
    "version": 3
   },
   "file_extension": ".py",
   "mimetype": "text/x-python",
   "name": "python",
   "nbconvert_exporter": "python",
   "pygments_lexer": "ipython3",
   "version": "3.10.6"
  }
 },
 "nbformat": 4,
 "nbformat_minor": 2
}
